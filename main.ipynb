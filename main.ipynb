{
 "cells": [
  {
   "cell_type": "code",
   "execution_count": 11,
   "metadata": {},
   "outputs": [
    {
     "name": "stdout",
     "output_type": "stream",
     "text": [
      "№    Word                 Weight     Match     \n",
      "--------------------------------------------------\n",
      "1    тротуар_NOUN         0.7081               \n",
      "2    перекресток_NOUN     0.6718               \n",
      "3    переулок_NOUN        0.6664               \n",
      "4    бульвар_NOUN         0.6628     [Match]   \n",
      "5    прохожий_NOUN        0.6349     [Match]   \n",
      "6    трамвай_NOUN         0.6077               \n",
      "7    мостовая_ADJ         0.6060               \n",
      "8    невский_PROPN        0.6050               \n",
      "9    мостовая_NOUN        0.6046               \n",
      "10   перекрестка_NOUN     0.5871               \n"
     ]
    }
   ],
   "source": [
    "# \"бульвар\" и \"прохожий\"\n",
    "\n",
    "from gensim.models import KeyedVectors\n",
    "\n",
    "positive_words = [\"улица_NOUN\", \"пешеход_NOUN\", \"проспект_NOUN\", \"сквер_NOUN\"]\n",
    "negative_words = [\"набережная_NOUN\"]\n",
    "\n",
    "\n",
    "vector_model = KeyedVectors.load_word2vec_format(\"cbow.txt\", binary=False)\n",
    "\n",
    "similar_words = vector_model.most_similar(positive=positive_words, negative=negative_words)\n",
    "\n",
    "i = 1\n",
    "print(f\"{'№':<4} {'Word':<20} {'Weight':<10} {'Match':<10}\")\n",
    "print(\"-\" * 50)\n",
    "\n",
    "for word, similarity_score in similar_words:\n",
    "    highlight = \"[Match]\" if word in {\"бульвар_NOUN\", \"прохожий_NOUN\"} else \"\"\n",
    "    print(f\"{i:<4} {word:<20} {similarity_score:<10.4f} {highlight:<10}\")\n",
    "    i += 1\n"
   ]
  }
 ],
 "metadata": {
  "kernelspec": {
   "display_name": "base",
   "language": "python",
   "name": "python3"
  },
  "language_info": {
   "codemirror_mode": {
    "name": "ipython",
    "version": 3
   },
   "file_extension": ".py",
   "mimetype": "text/x-python",
   "name": "python",
   "nbconvert_exporter": "python",
   "pygments_lexer": "ipython3",
   "version": "3.10.15"
  }
 },
 "nbformat": 4,
 "nbformat_minor": 2
}
